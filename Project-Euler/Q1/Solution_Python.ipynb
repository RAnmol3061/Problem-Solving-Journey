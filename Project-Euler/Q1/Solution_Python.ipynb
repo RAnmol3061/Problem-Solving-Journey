{
 "cells": [
  {
   "cell_type": "code",
   "execution_count": null,
   "id": "474d201f",
   "metadata": {},
   "outputs": [
    {
     "name": "stdout",
     "output_type": "stream",
     "text": [
      "233168\n"
     ]
    }
   ],
   "source": [
    "# Method 1\n",
    "\n",
    "list_3 = [i for i in range(3,1000,3)] #I have written 1000 not (1000 + 1) because no. below 1000 is asked\n",
    "list_5 = [i for i in range(5,1000,5)]\n",
    "list_15 = [i for i in range(15,1000,15)]\n",
    "\n",
    "ans = sum(list_3) + sum(list_5) - sum(list_15)\n",
    "print(ans)"
   ]
  },
  {
   "cell_type": "code",
   "execution_count": null,
   "id": "70578d88",
   "metadata": {},
   "outputs": [
    {
     "name": "stdout",
     "output_type": "stream",
     "text": [
      "233168\n"
     ]
    }
   ],
   "source": [
    "# Method 2\n",
    "sum = 0\n",
    "for i in range(1,1000):\n",
    "    if i % 3 ==0:\n",
    "        sum += i\n",
    "    elif i % 5 ==0: # If we had written \"if\" instead of \"elif\" then it would also include multiple of 15.\n",
    "        sum += i \n",
    "print(sum)"
   ]
  },
  {
   "cell_type": "code",
   "execution_count": null,
   "id": "f33fcb2f",
   "metadata": {},
   "outputs": [
    {
     "name": "stdout",
     "output_type": "stream",
     "text": [
      "233168.0\n"
     ]
    }
   ],
   "source": [
    "# Method 3\n",
    "\n",
    "limit = 1000 #Given in Question\n",
    "\n",
    "def sum_AP(limit,d):\n",
    "    a = d # d is first term according to this question\n",
    "    \n",
    "    #Find last term \n",
    "    for i in range(limit-d, limit):\n",
    "        if i%d == 0:\n",
    "            l = i\n",
    "            break\n",
    "    #Find No. of terms in an AP\n",
    "    n = round(((l - a)/d) + 1)\n",
    "\n",
    "    sum_ap = (n/2)*(2*a + (n-1)*d)\n",
    "    \n",
    "    return sum_ap\n",
    "\n",
    "sum_3 = sum_AP(limit,3)\n",
    "sum_5 = sum_AP(limit,5)\n",
    "sum_15 = sum_AP(limit,15)\n",
    "\n",
    "print(sum_3 + sum_5 - sum_15)"
   ]
  },
  {
   "cell_type": "code",
   "execution_count": null,
   "id": "89346e54",
   "metadata": {},
   "outputs": [
    {
     "name": "stdout",
     "output_type": "stream",
     "text": [
      "233168.0\n"
     ]
    }
   ],
   "source": [
    "# Method 4\n",
    "def sum_AP(limit, d):\n",
    "\n",
    "    a = d\n",
    "    l = ((limit - 1) // d) * d     # Find the last term\n",
    "    n = round(((l-a) / d) + 1)  #Find the number of terms in A.P    \n",
    "    sum_ap = (n/2)*(2*a + (n-1)*d)\n",
    "    \n",
    "    return sum_ap\n",
    "\n",
    "limit = 1000 #Given in Question\n",
    "\n",
    "sum_3 = sum_AP(limit, 3)\n",
    "sum_5 = sum_AP(limit, 5)\n",
    "sum_15 = sum_AP(limit, 15)\n",
    "\n",
    "ans = sum_3 + sum_5 - sum_15\n",
    "print(ans)"
   ]
  },
  {
   "cell_type": "code",
   "execution_count": null,
   "id": "cc777892",
   "metadata": {},
   "outputs": [
    {
     "name": "stdout",
     "output_type": "stream",
     "text": [
      "999\n"
     ]
    }
   ],
   "source": []
  }
 ],
 "metadata": {
  "kernelspec": {
   "display_name": ".venv",
   "language": "python",
   "name": "python3"
  },
  "language_info": {
   "codemirror_mode": {
    "name": "ipython",
    "version": 3
   },
   "file_extension": ".py",
   "mimetype": "text/x-python",
   "name": "python",
   "nbconvert_exporter": "python",
   "pygments_lexer": "ipython3",
   "version": "3.12.3"
  }
 },
 "nbformat": 4,
 "nbformat_minor": 5
}
