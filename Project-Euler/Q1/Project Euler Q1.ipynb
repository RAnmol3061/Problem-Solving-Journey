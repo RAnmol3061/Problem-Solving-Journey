{
 "cells": [
  {
   "attachments": {},
   "cell_type": "markdown",
   "id": "10f91faf-6f54-477b-8a6f-4a7d9c5dc1b5",
   "metadata": {},
   "source": [
    "Question 1: If we list all the natural numbers below 10 that are multiples of 3 or 5, we get 3, 5, 6, and 9. The sum of these multiples is 23. Find the sum of all the mulitples of 3 or 5 below 1000."
   ]
  },
  {
   "cell_type": "code",
   "execution_count": 1,
   "id": "3a8a1b77-4f17-4899-b849-5460fcc939f9",
   "metadata": {},
   "outputs": [
    {
     "name": "stdout",
     "output_type": "stream",
     "text": [
      "233168\n"
     ]
    }
   ],
   "source": [
    "# First Way I thought - looping through\n",
    "\n",
    "l,m = [],[]\n",
    "for i in range(1,1000):\n",
    "    if i%3==0:\n",
    "        l.append(i)\n",
    "    elif i%5==0:     #Using elif to not count 15 as only multiple of 3 and 5 are asked not 15\n",
    "        m.append(i)\n",
    "\n",
    "a = sum(l) + sum(m)\n",
    "print(a)"
   ]
  },
  {
   "cell_type": "code",
   "execution_count": 2,
   "id": "7f4e78db-b086-46f1-954e-a592e4806bf7",
   "metadata": {},
   "outputs": [
    {
     "name": "stdout",
     "output_type": "stream",
     "text": [
      "233168\n"
     ]
    }
   ],
   "source": [
    "#Imporved Code of above(ChatGPT)\n",
    "#This method uses less memory because no need to add elements to list\n",
    "c = 0\n",
    "for i in range(1,1000):\n",
    "    if i%3==0 or i%5==0:\n",
    "       c += i\n",
    "print(c)"
   ]
  },
  {
   "cell_type": "markdown",
   "id": "ad2173a8-4a68-438c-aa90-ce30decd0f4f",
   "metadata": {},
   "source": [
    "Maths Approach: Using this formula - Sum = d(p(p+1)/2) where d is the common difference and p is the number of terms in an AP"
   ]
  },
  {
   "cell_type": "code",
   "execution_count": 5,
   "id": "4b2582b9-555a-4fa0-9bce-b21c757a0ab8",
   "metadata": {},
   "outputs": [
    {
     "name": "stdout",
     "output_type": "stream",
     "text": [
      "233168\n"
     ]
    }
   ],
   "source": [
    "def code(d,limit):\n",
    "    p = (limit-1)//d\n",
    "    return d*(p*(p+1)//2) #Using floor division instead of divison to have value into integer\n",
    "\n",
    "sum_of_3 = code(3,1000)\n",
    "sum_of_5 = code(5,1000)\n",
    "sum_of_15 = code(15,1000)\n",
    "\n",
    "ans = sum_of_3 + sum_of_5 - sum_of_15\n",
    "print(ans)"
   ]
  }
 ],
 "metadata": {
  "kernelspec": {
   "display_name": "Python 3 (ipykernel)",
   "language": "python",
   "name": "python3"
  },
  "language_info": {
   "codemirror_mode": {
    "name": "ipython",
    "version": 3
   },
   "file_extension": ".py",
   "mimetype": "text/x-python",
   "name": "python",
   "nbconvert_exporter": "python",
   "pygments_lexer": "ipython3",
   "version": "3.12.0"
  }
 },
 "nbformat": 4,
 "nbformat_minor": 5
}
