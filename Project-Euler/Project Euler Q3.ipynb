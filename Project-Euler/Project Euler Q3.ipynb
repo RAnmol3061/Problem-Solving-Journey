{
 "cells": [
  {
   "cell_type": "markdown",
   "id": "8abde062-2751-4ca2-bd61-269cd47f9483",
   "metadata": {},
   "source": [
    "Question: The prime factors of 13195 are 5, 7, 13 and 29. What is the largest prime factor of the number 600851475143\n",
    "Help - https://www.geeksforgeeks.org/prime-factor/"
   ]
  },
  {
   "cell_type": "code",
   "execution_count": 5,
   "id": "babb07e5-78e8-4cb6-9d3a-740c3a0dada9",
   "metadata": {},
   "outputs": [
    {
     "data": {
      "text/plain": [
       "6857"
      ]
     },
     "execution_count": 5,
     "metadata": {},
     "output_type": "execute_result"
    }
   ],
   "source": [
    "#Soln is just working by chance, not right\n",
    "import math\n",
    "l = []\n",
    "num = 600851475143\n",
    "\n",
    "def even():\n",
    "        num = 600851475143\n",
    "        l.append(2)\n",
    "        num = num/2\n",
    "\n",
    "def odd():\n",
    "    num = 600851475143\n",
    "    for i in range(3,round(math.sqrt(num))):\n",
    "        if num%i==0:\n",
    "            l.append(i)\n",
    "            num = num/i\n",
    "\n",
    "odd()\n",
    "max(l)\n",
    "#6857 is the answer of the question\n",
    "#Don't know how"
   ]
  },
  {
   "cell_type": "code",
   "execution_count": null,
   "id": "fd5bfe07-9864-44cd-b364-9a5294354520",
   "metadata": {},
   "outputs": [],
   "source": [
    "#For example 1 to 100\n",
    "\n",
    "list = []\n",
    "\n",
    "for i in range(2,100):\n",
    "    list.append(i)\n",
    "\n",
    "print(list)"
   ]
  }
 ],
 "metadata": {
  "kernelspec": {
   "display_name": "Python 3 (ipykernel)",
   "language": "python",
   "name": "python3"
  },
  "language_info": {
   "codemirror_mode": {
    "name": "ipython",
    "version": 3
   },
   "file_extension": ".py",
   "mimetype": "text/x-python",
   "name": "python",
   "nbconvert_exporter": "python",
   "pygments_lexer": "ipython3",
   "version": "3.12.0"
  }
 },
 "nbformat": 4,
 "nbformat_minor": 5
}
