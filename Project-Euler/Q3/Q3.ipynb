{
 "cells": [
  {
   "cell_type": "code",
   "execution_count": null,
   "id": "9f0251bf",
   "metadata": {},
   "outputs": [
    {
     "name": "stdout",
     "output_type": "stream",
     "text": [
      "6857\n"
     ]
    }
   ],
   "source": [
    "#Method 1\n",
    "\n",
    "given_no = 600851475143\n",
    "prime_no = []\n",
    "\n",
    "#1st Part\n",
    "for i in range(2,10000): # I have choosen an aribitary upper limit\n",
    "    c = 0\n",
    "    for j in range(1,round(i/2)+1): #(i//2)+1 because a number more than half of original number cannot be a factor\n",
    "        if i%j ==0:\n",
    "            c += 1\n",
    "            if c >= 2: \n",
    "                break\n",
    "    if c ==1:\n",
    "        prime_no.append(i)\n",
    "\n",
    "#Second Part\n",
    "a = []\n",
    "prime_no_index = 0\n",
    "\n",
    "while given_no > 1 and prime_no_index < len(prime_no):\n",
    "    current = prime_no[prime_no_index]\n",
    "    while given_no % current == 0:\n",
    "        given_no /= current\n",
    "        a.append(current)\n",
    "    prime_no_index += 1\n",
    "\n",
    "print(max(a))\n",
    "\n"
   ]
  },
  {
   "cell_type": "code",
   "execution_count": null,
   "id": "ac2300d7",
   "metadata": {},
   "outputs": [],
   "source": [
    "#Method 2\n",
    "\n"
   ]
  }
 ],
 "metadata": {
  "kernelspec": {
   "display_name": ".venv",
   "language": "python",
   "name": "python3"
  },
  "language_info": {
   "codemirror_mode": {
    "name": "ipython",
    "version": 3
   },
   "file_extension": ".py",
   "mimetype": "text/x-python",
   "name": "python",
   "nbconvert_exporter": "python",
   "pygments_lexer": "ipython3",
   "version": "3.12.3"
  }
 },
 "nbformat": 4,
 "nbformat_minor": 5
}
