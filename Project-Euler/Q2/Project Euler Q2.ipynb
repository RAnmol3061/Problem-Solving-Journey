{
 "cells": [
  {
   "cell_type": "code",
   "execution_count": 27,
   "id": "06306991",
   "metadata": {},
   "outputs": [
    {
     "name": "stdout",
     "output_type": "stream",
     "text": [
      "4613732\n"
     ]
    }
   ],
   "source": [
    "# Method 1\n",
    "\n",
    "sequence = [1,2]\n",
    "x = 0\n",
    "\n",
    "while x < 4000000:\n",
    "    x = sequence[len(sequence)-1] + sequence[len(sequence)-2]\n",
    "    sequence.append(x)\n",
    "\n",
    "even_sequence = []\n",
    "\n",
    "for i in sequence:\n",
    "    if i%2 == 0:\n",
    "        even_sequence.append(i)\n",
    "\n",
    "print(sum(even_sequence))"
   ]
  },
  {
   "cell_type": "code",
   "execution_count": null,
   "id": "0b051a14",
   "metadata": {},
   "outputs": [
    {
     "name": "stdout",
     "output_type": "stream",
     "text": [
      "4613732\n"
     ]
    }
   ],
   "source": [
    "#Method 2\n",
    "\n",
    "sequence = [1,2]\n",
    "even_sequence = [2] #We have to add this beforehand otherwise 2 will not be included\n",
    "x = 0\n",
    "\n",
    "while x < 4000000:\n",
    "    x = sequence[len(sequence)-1] + sequence[len(sequence)-2]\n",
    "    sequence.append(x)\n",
    "    \n",
    "    if x %2 ==0:\n",
    "        even_sequence.append(x)\n",
    "\n",
    "print(sum(even_sequence))"
   ]
  }
 ],
 "metadata": {
  "kernelspec": {
   "display_name": ".venv",
   "language": "python",
   "name": "python3"
  },
  "language_info": {
   "codemirror_mode": {
    "name": "ipython",
    "version": 3
   },
   "file_extension": ".py",
   "mimetype": "text/x-python",
   "name": "python",
   "nbconvert_exporter": "python",
   "pygments_lexer": "ipython3",
   "version": "3.12.3"
  }
 },
 "nbformat": 4,
 "nbformat_minor": 5
}
