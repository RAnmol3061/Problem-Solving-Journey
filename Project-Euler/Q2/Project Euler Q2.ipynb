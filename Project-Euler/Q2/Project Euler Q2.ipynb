{
 "cells": [
  {
   "cell_type": "code",
   "execution_count": 27,
   "id": "06306991",
   "metadata": {},
   "outputs": [
    {
     "name": "stdout",
     "output_type": "stream",
     "text": [
      "4613732\n"
     ]
    }
   ],
   "source": [
    "# Method 1\n",
    "\n",
    "sequence = [1,2]\n",
    "x = 0\n",
    "\n",
    "while x < 4000000:\n",
    "    x = sequence[len(sequence)-1] + sequence[len(sequence)-2]\n",
    "    sequence.append(x)\n",
    "\n",
    "even_sequence = []\n",
    "\n",
    "for i in sequence:\n",
    "    if i%2 == 0:\n",
    "        even_sequence.append(i)\n",
    "\n",
    "print(sum(even_sequence))"
   ]
  },
  {
   "cell_type": "code",
   "execution_count": null,
   "id": "0b051a14",
   "metadata": {},
   "outputs": [
    {
     "name": "stdout",
     "output_type": "stream",
     "text": [
      "4613732\n"
     ]
    }
   ],
   "source": [
    "#Method 2\n",
    "\n",
    "sequence = [1,2]\n",
    "even_sequence = [2] #We have to add this beforehand otherwise 2 will not be included\n",
    "x = 0\n",
    "\n",
    "while x < 4000000:\n",
    "    x = sequence[len(sequence)-1] + sequence[len(sequence)-2]\n",
    "    sequence.append(x)\n",
    "    \n",
    "    if x %2 ==0:\n",
    "        even_sequence.append(x)\n",
    "\n",
    "print(sum(even_sequence))"
   ]
  },
  {
   "cell_type": "code",
   "execution_count": 7,
   "id": "5ccda248",
   "metadata": {},
   "outputs": [
    {
     "name": "stdout",
     "output_type": "stream",
     "text": [
      "4613732\n"
     ]
    }
   ],
   "source": [
    "#Method 3\n",
    "\n",
    "a,b = 1,2\n",
    "next_fib = 0 \n",
    "even_sum = 2 # We have hardcoded 2 because it is not taken into account inside the while loop\n",
    "\n",
    "while True:\n",
    "    next_fib = a + b\n",
    "    if next_fib % 2 ==0:\n",
    "        even_sum += next_fib\n",
    "\n",
    "    if next_fib > 4000000:\n",
    "        break\n",
    "    a = b\n",
    "    b = next_fib\n",
    "\n",
    "print(even_sum)\n"
   ]
  },
  {
   "cell_type": "code",
   "execution_count": 12,
   "id": "7232ce11",
   "metadata": {},
   "outputs": [
    {
     "name": "stdout",
     "output_type": "stream",
     "text": [
      "4613732\n"
     ]
    }
   ],
   "source": [
    "#Method 4\n",
    "e_k_minus_1 = 8\n",
    "e_k_minus_2 = 2\n",
    "even_sum = 10\n",
    "\n",
    "while True:\n",
    "    e_k = 4*e_k_minus_1 + e_k_minus_2\n",
    "    if e_k > 4000000:\n",
    "        break\n",
    "    even_sum += e_k\n",
    "    e_k_minus_2 = e_k_minus_1\n",
    "    e_k_minus_1 = e_k\n",
    "print(even_sum)"
   ]
  }
 ],
 "metadata": {
  "kernelspec": {
   "display_name": ".venv",
   "language": "python",
   "name": "python3"
  },
  "language_info": {
   "codemirror_mode": {
    "name": "ipython",
    "version": 3
   },
   "file_extension": ".py",
   "mimetype": "text/x-python",
   "name": "python",
   "nbconvert_exporter": "python",
   "pygments_lexer": "ipython3",
   "version": "3.12.3"
  }
 },
 "nbformat": 4,
 "nbformat_minor": 5
}
